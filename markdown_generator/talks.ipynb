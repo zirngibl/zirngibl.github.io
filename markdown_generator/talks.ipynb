{
 "cells": [
  {
   "cell_type": "markdown",
   "metadata": {},
   "source": [
    "# Talks markdown generator for academicpages\n",
    "\n",
    "Takes a TSV of talks with metadata and converts them for use with [academicpages.github.io](academicpages.github.io). This is an interactive Jupyter notebook ([see more info here](http://jupyter-notebook-beginner-guide.readthedocs.io/en/latest/what_is_jupyter.html)). The core python code is also in `talks.py`. Run either from the `markdown_generator` folder after replacing `talks.tsv` with one containing your data.\n",
    "\n",
    "TODO: Make this work with BibTex and other databases, rather than Stuart's non-standard TSV format and citation style."
   ]
  },
  {
   "cell_type": "code",
   "execution_count": 1,
   "metadata": {},
   "outputs": [],
   "source": [
    "import pandas as pd\n",
    "import os"
   ]
  },
  {
   "cell_type": "markdown",
   "metadata": {},
   "source": [
    "## Data format\n",
    "\n",
    "The TSV needs to have the following columns: title, type, url_slug, venue, date, location, talk_url, description, with a header at the top. Many of these fields can be blank, but the columns must be in the TSV.\n",
    "\n",
    "- Fields that cannot be blank: `title`, `url_slug`, `date`. All else can be blank. `type` defaults to \"Talk\" \n",
    "- `date` must be formatted as YYYY-MM-DD.\n",
    "- `url_slug` will be the descriptive part of the .md file and the permalink URL for the page about the paper. \n",
    "    - The .md file will be `YYYY-MM-DD-[url_slug].md` and the permalink will be `https://[yourdomain]/talks/YYYY-MM-DD-[url_slug]`\n",
    "    - The combination of `url_slug` and `date` must be unique, as it will be the basis for your filenames\n",
    "\n",
    "This is how the raw file looks (it doesn't look pretty, use a spreadsheet or other program to edit and create)."
   ]
  },
  {
   "cell_type": "code",
   "execution_count": 2,
   "metadata": {},
   "outputs": [
    {
     "name": "stdout",
     "output_type": "stream",
     "text": [
      "title,type,url_slug,venue,date,location,talk_url,description\r\n",
      "HEAP BGP Observatory,Workshop Talk,workshop-kismet,\"Workshop on Active Internet Measurements: Knowledge of Internet Structure: Measurement, Epistemology, and Technology (AIMS-KISMET)\",2020-02-26,\"San Diego, CA\",https://www.caida.org/workshops/kismet/2002/,\"Introduction to the Hijacking Event Analysis Program (HEAP) developed and deployed at TUM. It detects potential BGP hijacking events and filters false positives based on different indicators.\"    \r\n",
      "Rusty Clusters?: Dusting an IPv6 Research Foundation,Conference Talk, conference-imc2022,\"Internet Measurement Conference\",2022-10-26,\"Nice, France\",https://dl.acm.org/doi/10.1145/3517745.3561440,\r\n",
      "IPv6 Hitlist: Dusting and Updates,IRTF Talk,ietf-118,\"IETF 118: MAPRG meeting\", 2023-11-08, \"Prague\",https://wiki.ietf.org/group/maprg,\r\n"
     ]
    }
   ],
   "source": [
    "!cat talks.tsv"
   ]
  },
  {
   "cell_type": "markdown",
   "metadata": {},
   "source": [
    "## Import TSV\n",
    "\n",
    "Pandas makes this easy with the read_csv function. We are using a TSV, so we specify the separator as a tab, or `\\t`.\n",
    "\n",
    "I found it important to put this data in a tab-separated values format, because there are a lot of commas in this kind of data and comma-separated values can get messed up. However, you can modify the import statement, as pandas also has read_excel(), read_json(), and others."
   ]
  },
  {
   "cell_type": "code",
   "execution_count": 8,
   "metadata": {},
   "outputs": [
    {
     "data": {
      "text/html": [
       "<div>\n",
       "<style scoped>\n",
       "    .dataframe tbody tr th:only-of-type {\n",
       "        vertical-align: middle;\n",
       "    }\n",
       "\n",
       "    .dataframe tbody tr th {\n",
       "        vertical-align: top;\n",
       "    }\n",
       "\n",
       "    .dataframe thead th {\n",
       "        text-align: right;\n",
       "    }\n",
       "</style>\n",
       "<table border=\"1\" class=\"dataframe\">\n",
       "  <thead>\n",
       "    <tr style=\"text-align: right;\">\n",
       "      <th></th>\n",
       "      <th>title</th>\n",
       "      <th>type</th>\n",
       "      <th>url_slug</th>\n",
       "      <th>venue</th>\n",
       "      <th>date</th>\n",
       "      <th>location</th>\n",
       "      <th>talk_url</th>\n",
       "      <th>description</th>\n",
       "    </tr>\n",
       "  </thead>\n",
       "  <tbody>\n",
       "    <tr>\n",
       "      <th>0</th>\n",
       "      <td>HEAP BGP Observatory</td>\n",
       "      <td>Workshop Talk</td>\n",
       "      <td>workshop-kismet</td>\n",
       "      <td>Workshop on Active Internet Measurements: Know...</td>\n",
       "      <td>2020-02-26</td>\n",
       "      <td>San Diego, CA</td>\n",
       "      <td>https://www.caida.org/workshops/kismet/2002/</td>\n",
       "      <td>Introduction to the Hijacking Event Analysis P...</td>\n",
       "    </tr>\n",
       "    <tr>\n",
       "      <th>1</th>\n",
       "      <td>Rusty Clusters?: Dusting an IPv6 Research Foun...</td>\n",
       "      <td>Conference Talk</td>\n",
       "      <td>conference-imc2022</td>\n",
       "      <td>Internet Measurement Conference</td>\n",
       "      <td>2022-10-26</td>\n",
       "      <td>Nice, France</td>\n",
       "      <td>https://dl.acm.org/doi/10.1145/3517745.3561440</td>\n",
       "      <td>NaN</td>\n",
       "    </tr>\n",
       "    <tr>\n",
       "      <th>2</th>\n",
       "      <td>IPv6 Hitlist: Dusting and Updates</td>\n",
       "      <td>IRTF Talk</td>\n",
       "      <td>ietf-118</td>\n",
       "      <td>IETF 118: MAPRG meeting</td>\n",
       "      <td>2023-11-08</td>\n",
       "      <td>Prague</td>\n",
       "      <td>https://wiki.ietf.org/group/maprg</td>\n",
       "      <td>NaN</td>\n",
       "    </tr>\n",
       "  </tbody>\n",
       "</table>\n",
       "</div>"
      ],
      "text/plain": [
       "                                               title             type  \\\n",
       "0                               HEAP BGP Observatory    Workshop Talk   \n",
       "1  Rusty Clusters?: Dusting an IPv6 Research Foun...  Conference Talk   \n",
       "2                  IPv6 Hitlist: Dusting and Updates        IRTF Talk   \n",
       "\n",
       "             url_slug                                              venue  \\\n",
       "0     workshop-kismet  Workshop on Active Internet Measurements: Know...   \n",
       "1  conference-imc2022                    Internet Measurement Conference   \n",
       "2            ietf-118                            IETF 118: MAPRG meeting   \n",
       "\n",
       "         date       location                                        talk_url  \\\n",
       "0  2020-02-26  San Diego, CA    https://www.caida.org/workshops/kismet/2002/   \n",
       "1  2022-10-26   Nice, France  https://dl.acm.org/doi/10.1145/3517745.3561440   \n",
       "2  2023-11-08         Prague               https://wiki.ietf.org/group/maprg   \n",
       "\n",
       "                                         description  \n",
       "0  Introduction to the Hijacking Event Analysis P...  \n",
       "1                                                NaN  \n",
       "2                                                NaN  "
      ]
     },
     "execution_count": 8,
     "metadata": {},
     "output_type": "execute_result"
    }
   ],
   "source": [
    "talks = pd.read_csv(\"talks.tsv\", sep=\",\", header=0)\n",
    "talks"
   ]
  },
  {
   "cell_type": "markdown",
   "metadata": {},
   "source": [
    "## Escape special characters\n",
    "\n",
    "YAML is very picky about how it takes a valid string, so we are replacing single and double quotes (and ampersands) with their HTML encoded equivilents. This makes them look not so readable in raw format, but they are parsed and rendered nicely."
   ]
  },
  {
   "cell_type": "code",
   "execution_count": 9,
   "metadata": {},
   "outputs": [],
   "source": [
    "html_escape_table = {\n",
    "    \"&\": \"&amp;\",\n",
    "    '\"': \"&quot;\",\n",
    "    \"'\": \"&apos;\"\n",
    "    }\n",
    "\n",
    "def html_escape(text):\n",
    "    if type(text) is str:\n",
    "        return \"\".join(html_escape_table.get(c,c) for c in text)\n",
    "    else:\n",
    "        return \"False\""
   ]
  },
  {
   "cell_type": "markdown",
   "metadata": {},
   "source": [
    "## Creating the markdown files\n",
    "\n",
    "This is where the heavy lifting is done. This loops through all the rows in the TSV dataframe, then starts to concatentate a big string (```md```) that contains the markdown for each type. It does the YAML metadata first, then does the description for the individual page."
   ]
  },
  {
   "cell_type": "code",
   "execution_count": 10,
   "metadata": {},
   "outputs": [],
   "source": [
    "loc_dict = {}\n",
    "\n",
    "for row, item in talks.iterrows():\n",
    "    \n",
    "    md_filename = str(item.date) + \"-\" + item.url_slug + \".md\"\n",
    "    html_filename = str(item.date) + \"-\" + item.url_slug \n",
    "    year = item.date[:4]\n",
    "    \n",
    "    md = \"---\\ntitle: \\\"\"   + item.title + '\"\\n'\n",
    "    md += \"collection: talks\" + \"\\n\"\n",
    "    \n",
    "    if len(str(item.type)) > 3:\n",
    "        md += 'type: \"' + item.type + '\"\\n'\n",
    "    else:\n",
    "        md += 'type: \"Talk\"\\n'\n",
    "    \n",
    "    md += \"permalink: /talks/\" + html_filename + \"\\n\"\n",
    "    \n",
    "    if len(str(item.venue)) > 3:\n",
    "        md += 'venue: \"' + item.venue + '\"\\n'\n",
    "        \n",
    "    if len(str(item.location)) > 3:\n",
    "        md += \"date: \" + str(item.date) + \"\\n\"\n",
    "    \n",
    "    if len(str(item.location)) > 3:\n",
    "        md += 'location: \"' + str(item.location) + '\"\\n'\n",
    "           \n",
    "    md += \"---\\n\"\n",
    "    \n",
    "    \n",
    "    if len(str(item.talk_url)) > 3:\n",
    "        md += \"\\n[More information here](\" + item.talk_url + \")\\n\" \n",
    "        \n",
    "    \n",
    "    if len(str(item.description)) > 3:\n",
    "        md += \"\\n\" + html_escape(item.description) + \"\\n\"\n",
    "        \n",
    "        \n",
    "    md_filename = os.path.basename(md_filename)\n",
    "    #print(md)\n",
    "    \n",
    "    with open(\"../_talks/\" + md_filename, 'w') as f:\n",
    "        f.write(md)"
   ]
  },
  {
   "cell_type": "markdown",
   "metadata": {},
   "source": [
    "These files are in the talks directory, one directory below where we're working from."
   ]
  },
  {
   "cell_type": "code",
   "execution_count": 11,
   "metadata": {},
   "outputs": [
    {
     "name": "stdout",
     "output_type": "stream",
     "text": [
      " 2020-02-26-workshop-kismet.md\t     ' 2023-11-08-ietf-118.md'\r\n",
      " 2022-10-26-conference-imc2022.md     2023-11-08-ietf-118.md\r\n",
      "'2022-10-26- conference-imc2022.md'\r\n"
     ]
    }
   ],
   "source": [
    "!ls ../_talks"
   ]
  },
  {
   "cell_type": "code",
   "execution_count": null,
   "metadata": {},
   "outputs": [],
   "source": []
  }
 ],
 "metadata": {
  "kernelspec": {
   "display_name": "Python 3 (ipykernel)",
   "language": "python",
   "name": "python3"
  },
  "language_info": {
   "codemirror_mode": {
    "name": "ipython",
    "version": 3
   },
   "file_extension": ".py",
   "mimetype": "text/x-python",
   "name": "python",
   "nbconvert_exporter": "python",
   "pygments_lexer": "ipython3",
   "version": "3.9.2"
  }
 },
 "nbformat": 4,
 "nbformat_minor": 1
}
